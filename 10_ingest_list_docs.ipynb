{
  "nbformat": 4,
  "nbformat_minor": 0,
  "metadata": {
    "colab": {
      "provenance": [],
      "authorship_tag": "ABX9TyOG9A09QvTEmT16wS/44DWs",
      "include_colab_link": true
    },
    "kernelspec": {
      "name": "python3",
      "display_name": "Python 3"
    },
    "language_info": {
      "name": "python"
    }
  },
  "cells": [
    {
      "cell_type": "markdown",
      "metadata": {
        "id": "view-in-github",
        "colab_type": "text"
      },
      "source": [
        "<a href=\"https://colab.research.google.com/github/NaughtyFishies/mines_PE_alum/blob/main/10_ingest_list_docs.ipynb\" target=\"_parent\"><img src=\"https://colab.research.google.com/assets/colab-badge.svg\" alt=\"Open In Colab\"/></a>"
      ]
    },
    {
      "cell_type": "markdown",
      "source": [
        "10_ingest_list_docs.ipynb\n",
        "Mines Alumni Project\n",
        "\n",
        "Goal:\n",
        "- Enumerate Dropbox folder via API\n",
        "- Compute doc_id as hash. Store file metadata.\n",
        "- Done when: /raw mirrors manifest with doc hashes logged"
      ],
      "metadata": {
        "id": "41Z34iDnY70b"
      }
    },
    {
      "cell_type": "code",
      "source": [
        "import hashlib\n",
        "import os\n",
        "import json\n",
        "from datetime import datetime\n",
        "import dropbox"
      ],
      "metadata": {
        "id": "iQwqS1BSrYbA"
      },
      "execution_count": 44,
      "outputs": []
    },
    {
      "cell_type": "code",
      "source": [
        "from google.colab import drive\n",
        "drive.mount('/content/drive')"
      ],
      "metadata": {
        "colab": {
          "base_uri": "https://localhost:8080/"
        },
        "id": "rNS8aI6TZhCz",
        "outputId": "a2773914-fb72-4c0e-c1d1-6ce00aad634f"
      },
      "execution_count": 45,
      "outputs": [
        {
          "output_type": "stream",
          "name": "stdout",
          "text": [
            "Drive already mounted at /content/drive; to attempt to forcibly remount, call drive.mount(\"/content/drive\", force_remount=True).\n"
          ]
        }
      ]
    },
    {
      "cell_type": "markdown",
      "source": [
        "Run 00_boostrap-env to install dependencies and ensure that file structure exists:"
      ],
      "metadata": {
        "id": "_kIeGBE3pmk7"
      }
    },
    {
      "cell_type": "code",
      "execution_count": 46,
      "metadata": {
        "colab": {
          "base_uri": "https://localhost:8080/"
        },
        "id": "40C-V0mEI45b",
        "outputId": "12ce5856-f543-42bd-b7f8-edac94773ea3"
      },
      "outputs": [
        {
          "output_type": "stream",
          "name": "stdout",
          "text": [
            "Drive already mounted at /content/drive; to attempt to forcibly remount, call drive.mount(\"/content/drive\", force_remount=True).\n",
            "Directory structure ready:\n",
            "raw        -> /content/drive/MyDrive/mines-alum/raw\n",
            "interim    -> /content/drive/MyDrive/mines-alum/interim\n",
            "processed  -> /content/drive/MyDrive/mines-alum/processed\n",
            "profiles   -> /content/drive/MyDrive/mines-alum/profiles\n",
            "index      -> /content/drive/MyDrive/mines-alum/index\n",
            "logs       -> /content/drive/MyDrive/mines-alum/logs\n",
            "config     -> /content/drive/MyDrive/mines-alum/config\n",
            "[2025-10-24 01:30:06] Wrote sample log to Drive\n",
            "[2025-10-24 01:30:06] Wrote environment report to Drive\n"
          ]
        }
      ],
      "source": [
        "%run /content/drive/MyDrive/mines-alum/00_bootstrap_env.ipynb"
      ]
    },
    {
      "cell_type": "code",
      "source": [
        "dbx = init_dbx()"
      ],
      "metadata": {
        "id": "MqB_CLxsb3uG"
      },
      "execution_count": 47,
      "outputs": []
    },
    {
      "cell_type": "code",
      "source": [
        "def compute_doc_id(path):\n",
        "    return hashlib.sha256(path.encode(\"utf-8\")).hexdigest()[:16]\n",
        "\n",
        "def enumerate_dropbox_folder(dbx, folder):\n",
        "    entries = []\n",
        "    has_more = True\n",
        "    cursor = None\n",
        "    result = dbx.files_list_folder(folder, recursive=True)\n",
        "    entries.extend(result.entries)\n",
        "    while result.has_more:\n",
        "        result = dbx.files_list_folder_continue(result.cursor)\n",
        "        entries.extend(result.entries)\n",
        "\n",
        "    manifest = []\n",
        "    for entry in entries:\n",
        "        if isinstance(entry, dropbox.files.FileMetadata):\n",
        "            doc_id = compute_doc_id(entry.path_lower)\n",
        "            metadata = {\n",
        "                \"doc_id\": doc_id,\n",
        "                \"dropbox_path\": entry.path_lower,\n",
        "                \"name\": entry.name,\n",
        "                \"size\": entry.size,\n",
        "                \"client_modified\": entry.client_modified.isoformat(),\n",
        "                \"server_modified\": entry.server_modified.isoformat(),\n",
        "                \"rev\": entry.rev,\n",
        "            }\n",
        "            manifest.append(metadata)\n",
        "    return manifest"
      ],
      "metadata": {
        "id": "zD62TRSTrQVI"
      },
      "execution_count": 48,
      "outputs": []
    },
    {
      "cell_type": "markdown",
      "source": [
        "Create manifest from dropbox API:"
      ],
      "metadata": {
        "id": "EoVegw6V1xwc"
      }
    },
    {
      "cell_type": "code",
      "source": [
        "DROPBOX_FOLDER = \"/Hall of Fame Committee\"\n",
        "manifest_path = f\"{DIRS['index']}/manifest.json\"\n",
        "\n",
        "manifest = enumerate_dropbox_folder(dbx, DROPBOX_FOLDER)\n",
        "print(f\"Found {len(manifest)} files in Dropbox.\")"
      ],
      "metadata": {
        "colab": {
          "base_uri": "https://localhost:8080/"
        },
        "id": "QSD-v0hzr8c5",
        "outputId": "45bf50bd-fdce-47d8-867b-2e0c5a392ca5"
      },
      "execution_count": 49,
      "outputs": [
        {
          "output_type": "stream",
          "name": "stdout",
          "text": [
            "Found 380 files in Dropbox.\n"
          ]
        }
      ]
    },
    {
      "cell_type": "code",
      "source": [
        "with open(manifest_path, \"w\") as f:\n",
        "    json.dump(manifest, f, indent=2)\n",
        "\n",
        "print(\"Manifest saved to:\", manifest_path)\n",
        "\n",
        "for item in manifest:\n",
        "    local_path = os.path.join(DIRS[\"raw\"], item[\"name\"])\n",
        "    open(local_path, \"a\").close()"
      ],
      "metadata": {
        "colab": {
          "base_uri": "https://localhost:8080/"
        },
        "id": "mqecFCucui4o",
        "outputId": "985696dc-7caa-4e4b-831c-10960926b5c2"
      },
      "execution_count": 50,
      "outputs": [
        {
          "output_type": "stream",
          "name": "stdout",
          "text": [
            "Manifest saved to: /content/drive/MyDrive/mines-alum/index/manifest.json\n"
          ]
        }
      ]
    }
  ]
}