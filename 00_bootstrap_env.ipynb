{
  "nbformat": 4,
  "nbformat_minor": 0,
  "metadata": {
    "colab": {
      "provenance": [],
      "authorship_tag": "ABX9TyPc6InnvE9q5L9vPibQQaBy",
      "include_colab_link": true
    },
    "kernelspec": {
      "name": "python3",
      "display_name": "Python 3"
    },
    "language_info": {
      "name": "python"
    }
  },
  "cells": [
    {
      "cell_type": "markdown",
      "metadata": {
        "id": "view-in-github",
        "colab_type": "text"
      },
      "source": [
        "<a href=\"https://colab.research.google.com/github/NaughtyFishies/mines_PE_alum/blob/main/00_bootstrap_env.ipynb\" target=\"_parent\"><img src=\"https://colab.research.google.com/assets/colab-badge.svg\" alt=\"Open In Colab\"/></a>"
      ]
    },
    {
      "cell_type": "markdown",
      "source": [
        "00_bootstrap_env.ipynb\n",
        "Mines Alumni Project\n",
        "\n",
        "Goal:\n",
        "- Mount Google Drive\n",
        "- Define project directory layout\n",
        "- Verify read/write permissions\n",
        "- Log dependency versions"
      ],
      "metadata": {
        "id": "gFJifMGRTryQ"
      }
    },
    {
      "cell_type": "markdown",
      "source": [
        "Install and import dependencies:"
      ],
      "metadata": {
        "id": "vUedab3kx_OS"
      }
    },
    {
      "cell_type": "code",
      "source": [
        "!pip install dropbox -q"
      ],
      "metadata": {
        "id": "splK4ZVUyIKa"
      },
      "execution_count": 2,
      "outputs": []
    },
    {
      "cell_type": "code",
      "source": [
        "import os\n",
        "from datetime import datetime\n",
        "import json\n",
        "import platform\n",
        "import sys"
      ],
      "metadata": {
        "id": "K1o6R8_ExwOy"
      },
      "execution_count": 3,
      "outputs": []
    },
    {
      "cell_type": "markdown",
      "source": [
        "Mount drive:"
      ],
      "metadata": {
        "id": "debICC7Rx7YH"
      }
    },
    {
      "cell_type": "code",
      "source": [
        "from google.colab import drive\n",
        "drive.mount('/content/drive')"
      ],
      "metadata": {
        "colab": {
          "base_uri": "https://localhost:8080/"
        },
        "id": "c9dxbErVpdu2",
        "outputId": "470e80fe-abcc-41b3-971f-f9999b1172ce"
      },
      "execution_count": 4,
      "outputs": [
        {
          "output_type": "stream",
          "name": "stdout",
          "text": [
            "Mounted at /content/drive\n"
          ]
        }
      ]
    },
    {
      "cell_type": "markdown",
      "source": [
        "Find and test the dropbox utilities file then test dropbox API:"
      ],
      "metadata": {
        "id": "YYWV_s2Nz4J0"
      }
    },
    {
      "cell_type": "code",
      "source": [
        "sys.path.append('/content/drive/MyDrive/mines-alum')\n",
        "from dropbox_utils import init_dbx, test_dbx\n",
        "\n",
        "dbx = init_dbx()"
      ],
      "metadata": {
        "id": "UO83imMXU6p7",
        "colab": {
          "base_uri": "https://localhost:8080/",
          "height": 366
        },
        "outputId": "1bd0411b-aaaa-47f1-defa-21cb1a4a5f87"
      },
      "execution_count": 6,
      "outputs": [
        {
          "output_type": "error",
          "ename": "ModuleNotFoundError",
          "evalue": "No module named 'dropbox_utils'",
          "traceback": [
            "\u001b[0;31m---------------------------------------------------------------------------\u001b[0m",
            "\u001b[0;31mModuleNotFoundError\u001b[0m                       Traceback (most recent call last)",
            "\u001b[0;32m/tmp/ipython-input-1145099809.py\u001b[0m in \u001b[0;36m<cell line: 0>\u001b[0;34m()\u001b[0m\n\u001b[1;32m      1\u001b[0m \u001b[0msys\u001b[0m\u001b[0;34m.\u001b[0m\u001b[0mpath\u001b[0m\u001b[0;34m.\u001b[0m\u001b[0mappend\u001b[0m\u001b[0;34m(\u001b[0m\u001b[0;34m'/content/drive/MyDrive/mines-alum'\u001b[0m\u001b[0;34m)\u001b[0m\u001b[0;34m\u001b[0m\u001b[0;34m\u001b[0m\u001b[0m\n\u001b[0;32m----> 2\u001b[0;31m \u001b[0;32mfrom\u001b[0m \u001b[0mdropbox_utils\u001b[0m \u001b[0;32mimport\u001b[0m \u001b[0minit_dbx\u001b[0m\u001b[0;34m,\u001b[0m \u001b[0mtest_dbx\u001b[0m\u001b[0;34m\u001b[0m\u001b[0;34m\u001b[0m\u001b[0m\n\u001b[0m\u001b[1;32m      3\u001b[0m \u001b[0;34m\u001b[0m\u001b[0m\n\u001b[1;32m      4\u001b[0m \u001b[0mdbx\u001b[0m \u001b[0;34m=\u001b[0m \u001b[0minit_dbx\u001b[0m\u001b[0;34m(\u001b[0m\u001b[0;34m)\u001b[0m\u001b[0;34m\u001b[0m\u001b[0;34m\u001b[0m\u001b[0m\n",
            "\u001b[0;31mModuleNotFoundError\u001b[0m: No module named 'dropbox_utils'",
            "",
            "\u001b[0;31m---------------------------------------------------------------------------\u001b[0;32m\nNOTE: If your import is failing due to a missing package, you can\nmanually install dependencies using either !pip or !apt.\n\nTo view examples of installing some common dependencies, click the\n\"Open Examples\" button below.\n\u001b[0;31m---------------------------------------------------------------------------\u001b[0m\n"
          ],
          "errorDetails": {
            "actions": [
              {
                "action": "open_url",
                "actionText": "Open Examples",
                "url": "/notebooks/snippets/importing_libraries.ipynb"
              }
            ]
          }
        }
      ]
    },
    {
      "cell_type": "markdown",
      "source": [
        "Create directory structure:"
      ],
      "metadata": {
        "id": "3SLFd0R92Z29"
      }
    },
    {
      "cell_type": "code",
      "source": [
        "PROJECT_ROOT = \"/content/drive/MyDrive/mines-alum\"\n",
        "\n",
        "DIRS = {\n",
        "    \"raw\": f\"{PROJECT_ROOT}/raw\",\n",
        "    \"interim\": f\"{PROJECT_ROOT}/interim\",\n",
        "    \"processed\": f\"{PROJECT_ROOT}/processed\",\n",
        "    \"profiles\": f\"{PROJECT_ROOT}/profiles\",\n",
        "    \"index\": f\"{PROJECT_ROOT}/index\",\n",
        "    \"logs\": f\"{PROJECT_ROOT}/logs\",\n",
        "    \"config\": f\"{PROJECT_ROOT}/config\",\n",
        "}\n",
        "\n",
        "for path in DIRS.values():\n",
        "    os.makedirs(path, exist_ok=True)\n",
        "\n",
        "print(\"Directory structure ready:\")\n",
        "for index, value in DIRS.items():\n",
        "    print(f\"{index:<10} -> {value}\")"
      ],
      "metadata": {
        "id": "yaAVWLsZdIeq"
      },
      "execution_count": null,
      "outputs": []
    },
    {
      "cell_type": "code",
      "source": [
        "def write_json(path, data):\n",
        "    os.makedirs(os.path.dirname(path), exist_ok=True)\n",
        "    with open(path, 'w', encoding='utf-8') as f:\n",
        "        json.dump(data, f, indent=2, ensure_ascii=False)\n",
        "    return path\n",
        "\n",
        "\n",
        "def log(message):\n",
        "    print(f\"[{datetime.now().strftime('%Y-%m-%d %H:%M:%S')}] {message}\")"
      ],
      "metadata": {
        "id": "7wn7B1WOfwl4"
      },
      "execution_count": null,
      "outputs": []
    },
    {
      "cell_type": "markdown",
      "source": [
        "Test the directory structure and ensure write access:"
      ],
      "metadata": {
        "id": "FmHMNMNd2LqX"
      }
    },
    {
      "cell_type": "code",
      "source": [
        "test_path = f\"{DIRS['logs']}/{datetime.now().strftime('%Y%m%d')}/bootstrap_test.json\"\n",
        "os.makedirs(os.path.dirname(test_path), exist_ok=True)\n",
        "\n",
        "sample_data = {\n",
        "    \"timestamp\": datetime.now().isoformat(),\n",
        "    \"message\": \"Bootstrap write test successful.\"\n",
        "}\n",
        "write_json(test_path, sample_data)\n",
        "\n",
        "log(\"Wrote sample log to Drive\")"
      ],
      "metadata": {
        "id": "eQFGYGD2gS-B"
      },
      "execution_count": null,
      "outputs": []
    },
    {
      "cell_type": "markdown",
      "source": [
        "Log environment data:"
      ],
      "metadata": {
        "id": "t2TPg_FG2S4Z"
      }
    },
    {
      "cell_type": "code",
      "source": [
        "env_info = {\n",
        "    \"python_version\": sys.version,\n",
        "    \"platform\": platform.platform(),\n",
        "    \"timestamp\": datetime.now().isoformat(),\n",
        "}\n",
        "\n",
        "env_report_path = f\"{DIRS['logs']}/{datetime.now().strftime('%Y%m%d')}/env_report.json\"\n",
        "os.makedirs(os.path.dirname(env_report_path), exist_ok=True)\n",
        "\n",
        "write_json(env_report_path, env_info)\n",
        "log(\"Wrote environment report to Drive\")\n"
      ],
      "metadata": {
        "id": "qPDXnNtggfL0"
      },
      "execution_count": null,
      "outputs": []
    }
  ]
}