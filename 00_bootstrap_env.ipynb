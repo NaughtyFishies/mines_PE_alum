{
  "nbformat": 4,
  "nbformat_minor": 0,
  "metadata": {
    "colab": {
      "provenance": [],
      "authorship_tag": "ABX9TyO/c2lhknTD6PUBD14JYljh",
      "include_colab_link": true
    },
    "kernelspec": {
      "name": "python3",
      "display_name": "Python 3"
    },
    "language_info": {
      "name": "python"
    }
  },
  "cells": [
    {
      "cell_type": "markdown",
      "metadata": {
        "id": "view-in-github",
        "colab_type": "text"
      },
      "source": [
        "<a href=\"https://colab.research.google.com/github/NaughtyFishies/mines_PE_alum/blob/main/00_bootstrap_env.ipynb\" target=\"_parent\"><img src=\"https://colab.research.google.com/assets/colab-badge.svg\" alt=\"Open In Colab\"/></a>"
      ]
    },
    {
      "cell_type": "markdown",
      "source": [
        "00_bootstrap_env.ipynb\n",
        "Mines Alumni Project\n",
        "\n",
        "Goal:\n",
        "- Mount Google Drive\n",
        "- Define project directory layout\n",
        "- Verify read/write permissions\n",
        "- Log dependency versions"
      ],
      "metadata": {
        "id": "gFJifMGRTryQ"
      }
    },
    {
      "cell_type": "code",
      "source": [
        "!pip install jsonschema pandas tqdm PyYAML dropbox -q"
      ],
      "metadata": {
        "id": "UO83imMXU6p7",
        "colab": {
          "base_uri": "https://localhost:8080/"
        },
        "outputId": "561d8684-484c-43bc-c6e2-6d7931ae6dc0"
      },
      "execution_count": 3,
      "outputs": [
        {
          "output_type": "stream",
          "name": "stdout",
          "text": [
            "\u001b[?25l   \u001b[90m━━━━━━━━━━━━━━━━━━━━━━━━━━━━━━━━━━━━━━━━\u001b[0m \u001b[32m0.0/572.1 kB\u001b[0m \u001b[31m?\u001b[0m eta \u001b[36m-:--:--\u001b[0m\r\u001b[2K   \u001b[91m━━━━━━━━━━━━━━━━━━━\u001b[0m\u001b[90m╺\u001b[0m\u001b[90m━━━━━━━━━━━━━━━━━━━━\u001b[0m \u001b[32m276.5/572.1 kB\u001b[0m \u001b[31m8.4 MB/s\u001b[0m eta \u001b[36m0:00:01\u001b[0m\r\u001b[2K   \u001b[90m━━━━━━━━━━━━━━━━━━━━━━━━━━━━━━━━━━━━━━━━\u001b[0m \u001b[32m572.1/572.1 kB\u001b[0m \u001b[31m9.2 MB/s\u001b[0m eta \u001b[36m0:00:00\u001b[0m\n",
            "\u001b[?25h\u001b[?25l   \u001b[90m━━━━━━━━━━━━━━━━━━━━━━━━━━━━━━━━━━━━━━━━\u001b[0m \u001b[32m0.0/162.3 kB\u001b[0m \u001b[31m?\u001b[0m eta \u001b[36m-:--:--\u001b[0m\r\u001b[2K   \u001b[90m━━━━━━━━━━━━━━━━━━━━━━━━━━━━━━━━━━━━━━━━\u001b[0m \u001b[32m162.3/162.3 kB\u001b[0m \u001b[31m10.8 MB/s\u001b[0m eta \u001b[36m0:00:00\u001b[0m\n",
            "\u001b[?25h"
          ]
        }
      ]
    },
    {
      "cell_type": "code",
      "source": [
        "from google.colab import drive\n",
        "drive.mount('/content/drive')"
      ],
      "metadata": {
        "colab": {
          "base_uri": "https://localhost:8080/"
        },
        "id": "c9dxbErVpdu2",
        "outputId": "c702813c-f6df-4ba9-fb17-d0041da4dfce"
      },
      "execution_count": 1,
      "outputs": [
        {
          "output_type": "stream",
          "name": "stdout",
          "text": [
            "Mounted at /content/drive\n"
          ]
        }
      ]
    },
    {
      "cell_type": "code",
      "execution_count": 7,
      "metadata": {
        "id": "FeNz0uWsTfDv"
      },
      "outputs": [],
      "source": [
        "import sys\n",
        "sys.path.append('/content/drive/MyDrive/mines-alum')\n",
        "from dropbox_utils import init_dbx\n",
        "\n",
        "dbx = init_dbx()"
      ]
    },
    {
      "cell_type": "code",
      "source": [
        "import os\n",
        "from datetime import datetime\n",
        "\n",
        "PROJECT_ROOT = \"/content/drive/MyDrive/mines-alum\"\n",
        "\n",
        "DIRS = {\n",
        "    \"raw\": f\"{PROJECT_ROOT}/raw\",\n",
        "    \"interim\": f\"{PROJECT_ROOT}/interim\",\n",
        "    \"processed\": f\"{PROJECT_ROOT}/processed\",\n",
        "    \"profiles\": f\"{PROJECT_ROOT}/profiles\",\n",
        "    \"index\": f\"{PROJECT_ROOT}/index\",\n",
        "    \"logs\": f\"{PROJECT_ROOT}/logs\",\n",
        "    \"config\": f\"{PROJECT_ROOT}/config\",\n",
        "}\n",
        "\n",
        "# Create directories if they don't exist\n",
        "for path in DIRS.values():\n",
        "    os.makedirs(path, exist_ok=True)\n",
        "\n",
        "print(\"Directory structure ready:\")\n",
        "for k, v in DIRS.items():\n",
        "    print(f\"{k:<10} -> {v}\")"
      ],
      "metadata": {
        "colab": {
          "base_uri": "https://localhost:8080/"
        },
        "id": "yaAVWLsZdIeq",
        "outputId": "93d762c3-9342-4db8-8198-1156be7a1b62"
      },
      "execution_count": null,
      "outputs": [
        {
          "output_type": "stream",
          "name": "stdout",
          "text": [
            "Directory structure ready:\n",
            "raw        -> /content/drive/MyDrive/mines-alum/raw\n",
            "interim    -> /content/drive/MyDrive/mines-alum/interim\n",
            "processed  -> /content/drive/MyDrive/mines-alum/processed\n",
            "profiles   -> /content/drive/MyDrive/mines-alum/profiles\n",
            "index      -> /content/drive/MyDrive/mines-alum/index\n",
            "logs       -> /content/drive/MyDrive/mines-alum/logs\n",
            "config     -> /content/drive/MyDrive/mines-alum/config\n"
          ]
        }
      ]
    },
    {
      "cell_type": "code",
      "source": [
        "import sys, json, yaml, hashlib, pandas as pd\n",
        "from tqdm import tqdm\n",
        "from jsonschema import validate\n",
        "from datetime import datetime\n",
        "\n",
        "print(\"Dependencies loaded successfully.\")"
      ],
      "metadata": {
        "colab": {
          "base_uri": "https://localhost:8080/"
        },
        "id": "k0NPJAxDd_Ne",
        "outputId": "9b3a15b0-ca63-4800-f735-f503b213f7f7"
      },
      "execution_count": null,
      "outputs": [
        {
          "output_type": "stream",
          "name": "stdout",
          "text": [
            "Dependencies loaded successfully.\n"
          ]
        }
      ]
    },
    {
      "cell_type": "code",
      "source": [
        "import hashlib, os, json\n",
        "\n",
        "def compute_doc_id(file_path):\n",
        "    \"\"\"Generate a stable doc_id from file bytes + filename.\"\"\"\n",
        "    BUF_SIZE = 65536\n",
        "    sha = hashlib.sha256()\n",
        "    with open(file_path, 'rb') as f:\n",
        "        while chunk := f.read(BUF_SIZE):\n",
        "            sha.update(chunk)\n",
        "    sha.update(os.path.basename(file_path).encode())\n",
        "    return sha.hexdigest()[:16]\n",
        "\n",
        "\n",
        "def write_json(path, data):\n",
        "    \"\"\"Write dict as pretty JSON with timestamp.\"\"\"\n",
        "    os.makedirs(os.path.dirname(path), exist_ok=True)\n",
        "    with open(path, 'w', encoding='utf-8') as f:\n",
        "        json.dump(data, f, indent=2, ensure_ascii=False)\n",
        "    return path\n",
        "\n",
        "\n",
        "def log(message):\n",
        "    \"\"\"Timestamped print helper.\"\"\"\n",
        "    print(f\"[{datetime.now().strftime('%Y-%m-%d %H:%M:%S')}] {message}\")\n"
      ],
      "metadata": {
        "id": "7wn7B1WOfwl4"
      },
      "execution_count": null,
      "outputs": []
    },
    {
      "cell_type": "code",
      "source": [
        "test_path = f\"{DIRS['logs']}/{datetime.now().strftime('%Y%m%d')}/bootstrap_test.json\"\n",
        "os.makedirs(os.path.dirname(test_path), exist_ok=True)\n",
        "\n",
        "sample_data = {\n",
        "    \"timestamp\": datetime.now().isoformat(),\n",
        "    \"message\": \"Bootstrap write test successful.\"\n",
        "}\n",
        "write_json(test_path, sample_data)\n",
        "\n",
        "log(\"Wrote sample log to Drive\")\n"
      ],
      "metadata": {
        "colab": {
          "base_uri": "https://localhost:8080/"
        },
        "id": "eQFGYGD2gS-B",
        "outputId": "3e30c5e3-1b89-45be-aaf7-4e2e5e23c008"
      },
      "execution_count": null,
      "outputs": [
        {
          "output_type": "stream",
          "name": "stdout",
          "text": [
            "[2025-10-16 20:16:38] Wrote sample log to Drive\n"
          ]
        }
      ]
    },
    {
      "cell_type": "code",
      "source": [
        "import platform, sys\n",
        "\n",
        "env_info = {\n",
        "    \"python_version\": sys.version,\n",
        "    \"platform\": platform.platform(),\n",
        "    \"timestamp\": datetime.now().isoformat(),\n",
        "}\n",
        "\n",
        "env_report_path = f\"{DIRS['logs']}/{datetime.now().strftime('%Y%m%d')}/env_report.json\"\n",
        "os.makedirs(os.path.dirname(env_report_path), exist_ok=True)\n",
        "\n",
        "write_json(env_report_path, env_info)\n",
        "log(\"Wrote environment report to Drive\")\n"
      ],
      "metadata": {
        "colab": {
          "base_uri": "https://localhost:8080/"
        },
        "id": "qPDXnNtggfL0",
        "outputId": "13538c05-98f4-4f95-9ede-a9a0b57f1956"
      },
      "execution_count": null,
      "outputs": [
        {
          "output_type": "stream",
          "name": "stdout",
          "text": [
            "[2025-10-16 20:16:38] Wrote environment report to Drive\n"
          ]
        }
      ]
    }
  ]
}