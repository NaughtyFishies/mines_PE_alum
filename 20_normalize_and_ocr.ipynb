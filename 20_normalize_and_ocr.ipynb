{
  "nbformat": 4,
  "nbformat_minor": 0,
  "metadata": {
    "colab": {
      "provenance": [],
      "authorship_tag": "ABX9TyPuqZDefTmghDAbVN8edYjd",
      "include_colab_link": true
    },
    "kernelspec": {
      "name": "python3",
      "display_name": "Python 3"
    },
    "language_info": {
      "name": "python"
    }
  },
  "cells": [
    {
      "cell_type": "markdown",
      "metadata": {
        "id": "view-in-github",
        "colab_type": "text"
      },
      "source": [
        "<a href=\"https://colab.research.google.com/github/NaughtyFishies/mines_PE_alum/blob/main/20_normalize_and_ocr.ipynb\" target=\"_parent\"><img src=\"https://colab.research.google.com/assets/colab-badge.svg\" alt=\"Open In Colab\"/></a>"
      ]
    },
    {
      "cell_type": "code",
      "execution_count": 4,
      "metadata": {
        "colab": {
          "base_uri": "https://localhost:8080/"
        },
        "id": "fC4Sl--NZxxx",
        "outputId": "da07c032-8b6f-4e6b-e96d-e3cfe60e9d4f"
      },
      "outputs": [
        {
          "output_type": "stream",
          "name": "stdout",
          "text": [
            "Drive already mounted at /content/drive; to attempt to forcibly remount, call drive.mount(\"/content/drive\", force_remount=True).\n"
          ]
        }
      ],
      "source": [
        "from google.colab import drive\n",
        "drive.mount('/content/drive')"
      ]
    },
    {
      "cell_type": "code",
      "source": [
        "%run /content/drive/MyDrive/mines-alum/00_bootstrap_env.ipynb"
      ],
      "metadata": {
        "colab": {
          "base_uri": "https://localhost:8080/"
        },
        "id": "BEh_SsPLd0O7",
        "outputId": "26f36011-28cd-4b64-c5d8-5512ac5aa006"
      },
      "execution_count": 6,
      "outputs": [
        {
          "output_type": "stream",
          "name": "stdout",
          "text": [
            "\u001b[2K   \u001b[90m━━━━━━━━━━━━━━━━━━━━━━━━━━━━━━━━━━━━━━━━\u001b[0m \u001b[32m572.1/572.1 kB\u001b[0m \u001b[31m8.6 MB/s\u001b[0m eta \u001b[36m0:00:00\u001b[0m\n",
            "\u001b[2K   \u001b[90m━━━━━━━━━━━━━━━━━━━━━━━━━━━━━━━━━━━━━━━━\u001b[0m \u001b[32m162.3/162.3 kB\u001b[0m \u001b[31m10.4 MB/s\u001b[0m eta \u001b[36m0:00:00\u001b[0m\n",
            "\u001b[?25hDrive already mounted at /content/drive; to attempt to forcibly remount, call drive.mount(\"/content/drive\", force_remount=True).\n"
          ]
        },
        {
          "output_type": "stream",
          "name": "stderr",
          "text": [
            "WARNING:dropbox:Unable to refresh access token without                 refresh token and app key\n"
          ]
        },
        {
          "output_type": "stream",
          "name": "stdout",
          "text": [
            "Authentication failed! Check your access token.\n",
            "Directory structure ready:\n",
            "raw        -> /content/drive/MyDrive/mines-alum/raw\n",
            "interim    -> /content/drive/MyDrive/mines-alum/interim\n",
            "processed  -> /content/drive/MyDrive/mines-alum/processed\n",
            "profiles   -> /content/drive/MyDrive/mines-alum/profiles\n",
            "index      -> /content/drive/MyDrive/mines-alum/index\n",
            "logs       -> /content/drive/MyDrive/mines-alum/logs\n",
            "config     -> /content/drive/MyDrive/mines-alum/config\n",
            "[2025-10-27 16:19:57] Wrote sample log to Drive\n",
            "[2025-10-27 16:19:58] Wrote environment report to Drive\n"
          ]
        }
      ]
    },
    {
      "cell_type": "code",
      "source": [
        "import os\n",
        "import dropbox\n",
        "import json\n",
        "import sys"
      ],
      "metadata": {
        "id": "PqIGsNJclgNF"
      },
      "execution_count": 18,
      "outputs": []
    },
    {
      "cell_type": "code",
      "source": [
        "sys.path.append('/content/drive/MyDrive/mines-alum')\n",
        "from dropbox_utils import init_dbx, test_dbx\n",
        "\n",
        "dbx = init_dbx()"
      ],
      "metadata": {
        "id": "mkBiKg3Paa8T"
      },
      "execution_count": 8,
      "outputs": []
    },
    {
      "cell_type": "code",
      "source": [
        "PROJECT_ROOT = \"/content/drive/MyDrive/mines-alum\"\n",
        "RAW_DIR = f\"{PROJECT_ROOT}/raw\"\n",
        "INTERIM_DIR = f\"{PROJECT_ROOT}/interim\""
      ],
      "metadata": {
        "id": "hzFSrjkde8qX"
      },
      "execution_count": 9,
      "outputs": []
    },
    {
      "cell_type": "code",
      "source": [
        "def detect_file_type(entry):\n",
        "    if entry.name.lower().endswith(('.jpg')):\n",
        "        file_type = 'jpg'\n",
        "    elif entry.name.lower().endswith('.pdf'):\n",
        "        file_type = 'pdf'\n",
        "    elif entry.name.lower().endswith(('.txt', '.csv')):\n",
        "        file_type = 'txt'\n",
        "    elif entry.name.lower().endswith(('.docx')):\n",
        "        file_type = 'docx'\n",
        "    elif entry.name.lower().endswith(('.pptx')):\n",
        "        file_type = 'pptx'\n",
        "    elif entry.name.lower().endswith(('.xlsx')):\n",
        "        file_type = 'xlsx'\n",
        "    else:\n",
        "        file_type = 'unknown'\n",
        "\n",
        "    return {\n",
        "      \"name\": entry.name,\n",
        "      \"dropbox_path\": entry.path_lower,\n",
        "      \"mime_type\": file_type,\n",
        "      \"size\": entry.size\n",
        "      }"
      ],
      "metadata": {
        "id": "FMIZ6iNmgJ6_"
      },
      "execution_count": 12,
      "outputs": []
    },
    {
      "cell_type": "code",
      "source": [
        "def enumerate_and_classify_files(dbx, folder):\n",
        "    all_entries = []\n",
        "    result = dbx.files_list_folder(folder, recursive=True)\n",
        "\n",
        "    entries = result.entries\n",
        "    while result.has_more:\n",
        "        result = dbx.files_list_folder_continue(result.cursor)\n",
        "        entries.extend(result.entries)\n",
        "\n",
        "    for entry in entries:\n",
        "        if isinstance(entry, dropbox.files.FileMetadata):\n",
        "            info = detect_file_type(entry)\n",
        "            all_entries.append(info)\n",
        "\n",
        "    return all_entries"
      ],
      "metadata": {
        "id": "cBWw7DaDkRA3"
      },
      "execution_count": 13,
      "outputs": []
    },
    {
      "cell_type": "code",
      "source": [
        "DROPBOX_FOLDER = \"/Hall of Fame Committee\"\n",
        "classified_files = enumerate_and_classify_files(dbx, DROPBOX_FOLDER)\n",
        "\n",
        "os.makedirs(INTERIM_DIR, exist_ok=True)\n",
        "with open(f\"{INTERIM_DIR}/file_types.json\", \"w\") as f:\n",
        "    json.dump(classified_files, f, indent=2)"
      ],
      "metadata": {
        "id": "4WLi6cA1kq0G"
      },
      "execution_count": 19,
      "outputs": []
    }
  ]
}